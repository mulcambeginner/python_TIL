{
 "cells": [
  {
   "cell_type": "code",
   "execution_count": 1,
   "id": "76dc790f",
   "metadata": {},
   "outputs": [
    {
     "name": "stdout",
     "output_type": "stream",
     "text": [
      "hello world\n"
     ]
    }
   ],
   "source": [
    "print('hello world')"
   ]
  },
  {
   "cell_type": "code",
   "execution_count": 2,
   "id": "f97e477b",
   "metadata": {},
   "outputs": [
    {
     "name": "stdout",
     "output_type": "stream",
     "text": [
      "파이쏭\n"
     ]
    }
   ],
   "source": [
    "name='파이쏭'\n",
    "print(name)"
   ]
  },
  {
   "cell_type": "code",
   "execution_count": 3,
   "id": "ad105b04",
   "metadata": {},
   "outputs": [
    {
     "name": "stdout",
     "output_type": "stream",
     "text": [
      "1024\n"
     ]
    }
   ],
   "source": [
    "a=1024\n",
    "print(a)"
   ]
  },
  {
   "cell_type": "code",
   "execution_count": 16,
   "id": "fc65000d",
   "metadata": {},
   "outputs": [
    {
     "name": "stdout",
     "output_type": "stream",
     "text": [
      "파이쏭님 안녕하세요!\n"
     ]
    }
   ],
   "source": [
    "# name 변수의 값을 '파이쏭' 대신 다른 값으로 바꿔보세요!\n",
    "name='파이쏭'\n",
    "print(name+'님 안녕하세요!')"
   ]
  },
  {
   "cell_type": "code",
   "execution_count": 20,
   "id": "04fd0cea",
   "metadata": {},
   "outputs": [
    {
     "name": "stdout",
     "output_type": "stream",
     "text": [
      "2020 원더키디 화이팅!!\n"
     ]
    }
   ],
   "source": [
    "name='원더키디' #주석은 코드 오른쪽에 쓸 수도 있습니다.\n",
    "print(2020,name,'화이팅!!')"
   ]
  },
  {
   "cell_type": "code",
   "execution_count": 21,
   "id": "3378d443",
   "metadata": {},
   "outputs": [
    {
     "name": "stdout",
     "output_type": "stream",
     "text": [
      "파이쏭\n",
      "파이쏭님! 안녕하세요!\n"
     ]
    }
   ],
   "source": [
    "name=input()\n",
    "print(name+'님! 안녕하세요!')"
   ]
  },
  {
   "cell_type": "code",
   "execution_count": 25,
   "id": "f03c1103",
   "metadata": {},
   "outputs": [
    {
     "name": "stdout",
     "output_type": "stream",
     "text": [
      "이름을 입력해주세요 : 파이쏭\n",
      "파이쏭님! 안녕하세요!\n"
     ]
    }
   ],
   "source": [
    "name=input('이름을 입력해주세요 : ')\n",
    "print(name+'님! 안녕하세요!')"
   ]
  },
  {
   "cell_type": "code",
   "execution_count": 28,
   "id": "02a72b10",
   "metadata": {},
   "outputs": [
    {
     "name": "stdout",
     "output_type": "stream",
     "text": [
      "나이를 입력해주세요! : 25\n",
      "21\n"
     ]
    }
   ],
   "source": [
    "age=input('나이를 입력해주세요! : ')\n",
    "print(int(age)-4)"
   ]
  },
  {
   "cell_type": "code",
   "execution_count": 35,
   "id": "968ef914",
   "metadata": {},
   "outputs": [
    {
     "name": "stdout",
     "output_type": "stream",
     "text": [
      "이름을 입력해주세요 : vkdlTHd\n",
      "나이를 입력해주세요 : 25\n"
     ]
    },
    {
     "ename": "TypeError",
     "evalue": "can only concatenate str (not \"int\") to str",
     "output_type": "error",
     "traceback": [
      "\u001b[1;31m---------------------------------------------------------------------------\u001b[0m",
      "\u001b[1;31mTypeError\u001b[0m                                 Traceback (most recent call last)",
      "\u001b[1;32m<ipython-input-35-1469ae8b8612>\u001b[0m in \u001b[0;36m<module>\u001b[1;34m\u001b[0m\n\u001b[0;32m      1\u001b[0m \u001b[0mname\u001b[0m\u001b[1;33m=\u001b[0m\u001b[0minput\u001b[0m\u001b[1;33m(\u001b[0m\u001b[1;34m'이름을 입력해주세요 : '\u001b[0m\u001b[1;33m)\u001b[0m\u001b[1;33m\u001b[0m\u001b[1;33m\u001b[0m\u001b[0m\n\u001b[0;32m      2\u001b[0m \u001b[0mage\u001b[0m\u001b[1;33m=\u001b[0m\u001b[0mint\u001b[0m\u001b[1;33m(\u001b[0m\u001b[0minput\u001b[0m\u001b[1;33m(\u001b[0m\u001b[1;34m'나이를 입력해주세요 : '\u001b[0m\u001b[1;33m)\u001b[0m\u001b[1;33m)\u001b[0m\u001b[1;33m\u001b[0m\u001b[1;33m\u001b[0m\u001b[0m\n\u001b[1;32m----> 3\u001b[1;33m \u001b[0mprint\u001b[0m\u001b[1;33m(\u001b[0m\u001b[1;34m'안녕하세요!'\u001b[0m\u001b[1;33m,\u001b[0m\u001b[0mname\u001b[0m\u001b[1;33m+\u001b[0m\u001b[1;34m'님! 저는 처음에 +'\u001b[0m\u001b[1;33m+\u001b[0m\u001b[0mint\u001b[0m\u001b[1;33m(\u001b[0m\u001b[0mage\u001b[0m\u001b[1;33m-\u001b[0m\u001b[1;36m4\u001b[0m\u001b[1;33m)\u001b[0m\u001b[1;33m+\u001b[0m\u001b[1;34m'살인 줄 알았어요!!'\u001b[0m\u001b[1;33m)\u001b[0m\u001b[1;33m\u001b[0m\u001b[1;33m\u001b[0m\u001b[0m\n\u001b[0m",
      "\u001b[1;31mTypeError\u001b[0m: can only concatenate str (not \"int\") to str"
     ]
    }
   ],
   "source": [
    "name=input('이름을 입력해주세요 : ')\n",
    "age=int(input('나이를 입력해주세요 : '))\n",
    "print('안녕하세요!',name+'님! 저는 처음에 +'+int(age-4)+'살인 줄 알았어요!!')"
   ]
  },
  {
   "cell_type": "code",
   "execution_count": 36,
   "id": "fc34f211",
   "metadata": {},
   "outputs": [
    {
     "name": "stdout",
     "output_type": "stream",
     "text": [
      "2\n"
     ]
    }
   ],
   "source": [
    "print(5//2)"
   ]
  },
  {
   "cell_type": "code",
   "execution_count": 43,
   "id": "0ad149b7",
   "metadata": {},
   "outputs": [
    {
     "name": "stdout",
     "output_type": "stream",
     "text": [
      "2\n"
     ]
    }
   ],
   "source": [
    "print(10%4)"
   ]
  },
  {
   "cell_type": "code",
   "execution_count": 44,
   "id": "1ed37669",
   "metadata": {},
   "outputs": [
    {
     "name": "stdout",
     "output_type": "stream",
     "text": [
      "True\n"
     ]
    }
   ],
   "source": [
    "print(10>=3)"
   ]
  },
  {
   "cell_type": "code",
   "execution_count": 45,
   "id": "4585e1ab",
   "metadata": {},
   "outputs": [
    {
     "name": "stdout",
     "output_type": "stream",
     "text": [
      "False\n"
     ]
    }
   ],
   "source": [
    "print(10<=3)"
   ]
  },
  {
   "cell_type": "code",
   "execution_count": 46,
   "id": "56fe0ab9",
   "metadata": {},
   "outputs": [
    {
     "name": "stdout",
     "output_type": "stream",
     "text": [
      "False\n"
     ]
    }
   ],
   "source": [
    "print(10==3)"
   ]
  },
  {
   "cell_type": "code",
   "execution_count": 47,
   "id": "a6b7ddbb",
   "metadata": {},
   "outputs": [
    {
     "name": "stdout",
     "output_type": "stream",
     "text": [
      "True\n"
     ]
    }
   ],
   "source": [
    "print(10!=3)"
   ]
  },
  {
   "cell_type": "code",
   "execution_count": 48,
   "id": "aecedaf9",
   "metadata": {},
   "outputs": [
    {
     "name": "stdout",
     "output_type": "stream",
     "text": [
      "True\n"
     ]
    }
   ],
   "source": [
    "print(3%2==1)"
   ]
  },
  {
   "cell_type": "code",
   "execution_count": 50,
   "id": "93aa00b5",
   "metadata": {},
   "outputs": [
    {
     "ename": "SyntaxError",
     "evalue": "invalid syntax (<ipython-input-50-6a1f9054c56b>, line 1)",
     "output_type": "error",
     "traceback": [
      "\u001b[1;36m  File \u001b[1;32m\"<ipython-input-50-6a1f9054c56b>\"\u001b[1;36m, line \u001b[1;32m1\u001b[0m\n\u001b[1;33m    print(10=!3)\u001b[0m\n\u001b[1;37m             ^\u001b[0m\n\u001b[1;31mSyntaxError\u001b[0m\u001b[1;31m:\u001b[0m invalid syntax\n"
     ]
    }
   ],
   "source": [
    "print(10=!3)"
   ]
  },
  {
   "cell_type": "code",
   "execution_count": 70,
   "id": "7379878d",
   "metadata": {
    "collapsed": true
   },
   "outputs": [
    {
     "name": "stdout",
     "output_type": "stream",
     "text": [
      "쵸파\n",
      "루피\n",
      "상디\n",
      "조로\n"
     ]
    }
   ],
   "source": [
    "names = ['쵸파','루피','상디','조로']\n",
    "for g in name :\n",
    "    print(g)"
   ]
  },
  {
   "cell_type": "code",
   "execution_count": 73,
   "id": "9ae5e7ad",
   "metadata": {},
   "outputs": [
    {
     "name": "stdout",
     "output_type": "stream",
     "text": [
      "0\n",
      "1\n",
      "4\n",
      "9\n"
     ]
    }
   ],
   "source": [
    "for i in (0,1,2,3) :\n",
    "    print(i**2)"
   ]
  },
  {
   "cell_type": "code",
   "execution_count": 77,
   "id": "64eceae1",
   "metadata": {},
   "outputs": [
    {
     "name": "stdout",
     "output_type": "stream",
     "text": [
      "0\n",
      "1\n",
      "4\n",
      "9\n",
      "16\n",
      "25\n",
      "36\n",
      "49\n",
      "64\n",
      "81\n",
      "100\n",
      "121\n",
      "144\n",
      "169\n",
      "196\n",
      "225\n",
      "256\n",
      "289\n",
      "324\n",
      "361\n",
      "400\n",
      "441\n",
      "484\n",
      "529\n",
      "576\n",
      "625\n",
      "676\n",
      "729\n",
      "784\n",
      "841\n",
      "900\n",
      "961\n",
      "1024\n",
      "1089\n",
      "1156\n",
      "1225\n",
      "1296\n",
      "1369\n",
      "1444\n",
      "1521\n",
      "1600\n",
      "1681\n",
      "1764\n",
      "1849\n",
      "1936\n",
      "2025\n",
      "2116\n",
      "2209\n",
      "2304\n",
      "2401\n",
      "2500\n",
      "2601\n",
      "2704\n",
      "2809\n",
      "2916\n",
      "3025\n",
      "3136\n",
      "3249\n",
      "3364\n",
      "3481\n",
      "3600\n",
      "3721\n",
      "3844\n",
      "3969\n",
      "4096\n",
      "4225\n",
      "4356\n",
      "4489\n",
      "4624\n",
      "4761\n",
      "4900\n",
      "5041\n",
      "5184\n",
      "5329\n",
      "5476\n",
      "5625\n",
      "5776\n",
      "5929\n",
      "6084\n",
      "6241\n",
      "6400\n",
      "6561\n",
      "6724\n",
      "6889\n",
      "7056\n",
      "7225\n",
      "7396\n",
      "7569\n",
      "7744\n",
      "7921\n",
      "8100\n",
      "8281\n",
      "8464\n",
      "8649\n",
      "8836\n",
      "9025\n",
      "9216\n",
      "9409\n",
      "9604\n",
      "9801\n",
      "10000\n"
     ]
    }
   ],
   "source": [
    "for i in range(101) :\n",
    "    print(i ** 2)"
   ]
  },
  {
   "cell_type": "code",
   "execution_count": 87,
   "id": "08c6480d",
   "metadata": {},
   "outputs": [
    {
     "name": "stdout",
     "output_type": "stream",
     "text": [
      "8\n",
      "14\n"
     ]
    }
   ],
   "source": [
    "for i in range(4,10,3) :\n",
    "    print(i*2)"
   ]
  },
  {
   "cell_type": "code",
   "execution_count": 166,
   "id": "8a563dd9",
   "metadata": {},
   "outputs": [],
   "source": [
    "if 10<0 :\n",
    "    print('안녕하세요?')"
   ]
  },
  {
   "cell_type": "code",
   "execution_count": 127,
   "id": "20d7a524",
   "metadata": {},
   "outputs": [
    {
     "name": "stdout",
     "output_type": "stream",
     "text": [
      "비밀번호 4자리를 입력하세요 : 23\n"
     ]
    }
   ],
   "source": [
    "passwd = int(input('비밀번호 4자리를 입력하세요 : '))\n",
    "if passwd == 1531 :\n",
    "    print('비밀번호가 일치합니다.')\n",
    "if passwd == 2468 :\n",
    "    print('불일치')"
   ]
  },
  {
   "cell_type": "code",
   "execution_count": 156,
   "id": "e8ee50b4",
   "metadata": {},
   "outputs": [
    {
     "ename": "NameError",
     "evalue": "name 'a' is not defined",
     "output_type": "error",
     "traceback": [
      "\u001b[1;31m---------------------------------------------------------------------------\u001b[0m",
      "\u001b[1;31mNameError\u001b[0m                                 Traceback (most recent call last)",
      "\u001b[1;32m<ipython-input-156-da091bde8dc4>\u001b[0m in \u001b[0;36m<module>\u001b[1;34m\u001b[0m\n\u001b[0;32m      1\u001b[0m \u001b[0mnames\u001b[0m \u001b[1;33m=\u001b[0m \u001b[1;33m[\u001b[0m\u001b[1;34m'쵸파'\u001b[0m\u001b[1;33m,\u001b[0m\u001b[1;34m'루피'\u001b[0m\u001b[1;33m,\u001b[0m\u001b[1;34m'상디'\u001b[0m\u001b[1;33m,\u001b[0m\u001b[1;34m'조로'\u001b[0m\u001b[1;33m]\u001b[0m\u001b[1;33m\u001b[0m\u001b[1;33m\u001b[0m\u001b[0m\n\u001b[0;32m      2\u001b[0m \u001b[1;32mfor\u001b[0m \u001b[0mname\u001b[0m \u001b[1;32min\u001b[0m \u001b[0mnames\u001b[0m \u001b[1;33m:\u001b[0m\u001b[1;33m\u001b[0m\u001b[1;33m\u001b[0m\u001b[0m\n\u001b[1;32m----> 3\u001b[1;33m     \u001b[0mprint\u001b[0m\u001b[1;33m(\u001b[0m\u001b[0ma\u001b[0m\u001b[1;33m)\u001b[0m\u001b[1;33m\u001b[0m\u001b[1;33m\u001b[0m\u001b[0m\n\u001b[0m\u001b[0;32m      4\u001b[0m \u001b[1;32mdel\u001b[0m \u001b[0mname\u001b[0m\u001b[1;33m\u001b[0m\u001b[1;33m\u001b[0m\u001b[0m\n\u001b[0;32m      5\u001b[0m \u001b[1;32mfor\u001b[0m \u001b[0mnames\u001b[0m \u001b[1;32min\u001b[0m \u001b[0mname\u001b[0m\u001b[1;33m:\u001b[0m\u001b[1;33m\u001b[0m\u001b[1;33m\u001b[0m\u001b[0m\n",
      "\u001b[1;31mNameError\u001b[0m: name 'a' is not defined"
     ]
    }
   ],
   "source": [
    "names = ['쵸파','루피','상디','조로']\n",
    "for name in names :\n",
    "    print(a)\n",
    "del name\n",
    "for names in name:\n",
    "    print(name)"
   ]
  },
  {
   "cell_type": "code",
   "execution_count": 149,
   "id": "bb7e4c21",
   "metadata": {},
   "outputs": [
    {
     "data": {
      "text/plain": [
       "<function print>"
      ]
     },
     "execution_count": 149,
     "metadata": {},
     "output_type": "execute_result"
    }
   ],
   "source": [
    "names = ['쵸파','루피','상디','조로']\n",
    "print"
   ]
  },
  {
   "cell_type": "code",
   "execution_count": 169,
   "id": "5db8f130",
   "metadata": {},
   "outputs": [
    {
     "name": "stdout",
     "output_type": "stream",
     "text": [
      "숫자입력을 하세요3\n",
      "a는 한자리 양수입니다\n"
     ]
    }
   ],
   "source": [
    "a = input(\"숫자입력을 하세요\")\n",
    "if int(a) < 0:\n",
    "    print( \"a는 음수입니다\")\n",
    "elif 1<int(a)<10:\n",
    "    print(\"a는 한자리 양수입니다\")\n",
    "else:\n",
    "    print(\"a는 두자리이상 양수입니다\")"
   ]
  },
  {
   "cell_type": "code",
   "execution_count": 172,
   "id": "00c81f3f",
   "metadata": {},
   "outputs": [
    {
     "name": "stdout",
     "output_type": "stream",
     "text": [
      "루피\n"
     ]
    }
   ],
   "source": [
    "names = ['쵸파','루피','상디','조로']\n",
    "print(names[-3])"
   ]
  },
  {
   "cell_type": "code",
   "execution_count": 173,
   "id": "149ec424",
   "metadata": {},
   "outputs": [
    {
     "name": "stdout",
     "output_type": "stream",
     "text": [
      "['쵸파', '루피']\n",
      "['루피', '상디']\n",
      "['루피', '상디', '조로']\n",
      "['쵸파', '루피', '상디', '조로']\n"
     ]
    }
   ],
   "source": [
    "names=['쵸파','루피','상디','조로']\n",
    "print(names[0:2])\n",
    "print(names[1:3])\n",
    "print(names[1:])\n",
    "print(names[:])"
   ]
  },
  {
   "cell_type": "code",
   "execution_count": 174,
   "id": "5af14b40",
   "metadata": {},
   "outputs": [
    {
     "name": "stdout",
     "output_type": "stream",
     "text": [
      "['쵸파', '루피', '상디', '조로', '나미']\n"
     ]
    }
   ],
   "source": [
    "names=['쵸파','루피','상디','조로']\n",
    "names.append('나미')\n",
    "print(names)"
   ]
  },
  {
   "cell_type": "code",
   "execution_count": 177,
   "id": "2dafb90d",
   "metadata": {},
   "outputs": [
    {
     "name": "stdout",
     "output_type": "stream",
     "text": [
      "5\n"
     ]
    }
   ],
   "source": [
    "print(len(names))"
   ]
  },
  {
   "cell_type": "code",
   "execution_count": 185,
   "id": "256df247",
   "metadata": {},
   "outputs": [
    {
     "name": "stdout",
     "output_type": "stream",
     "text": [
      "2\n"
     ]
    }
   ],
   "source": [
    "print(len(' q'))"
   ]
  },
  {
   "cell_type": "code",
   "execution_count": 191,
   "id": "2eb12b11",
   "metadata": {},
   "outputs": [
    {
     "name": "stdout",
     "output_type": "stream",
     "text": [
      "쵸파 왔나요?\n",
      "루피 왔나요?\n",
      "상디 왔나요?\n",
      "조로 왔나요?\n",
      "해적왕 왔나요?\n"
     ]
    }
   ],
   "source": [
    "names=['쵸파','루피','상디','조로']\n",
    "names.append('해적왕')\n",
    "for i in names :\n",
    "    if len(i)>0 :\n",
    "        print(i,'왔나요?')"
   ]
  },
  {
   "cell_type": "code",
   "execution_count": 194,
   "id": "23020ef3",
   "metadata": {},
   "outputs": [
    {
     "name": "stdout",
     "output_type": "stream",
     "text": [
      "안녕하세요\n"
     ]
    }
   ],
   "source": [
    "print(\"안녕하세요\")"
   ]
  },
  {
   "cell_type": "code",
   "execution_count": 195,
   "id": "ccbee487",
   "metadata": {},
   "outputs": [
    {
     "name": "stdout",
     "output_type": "stream",
     "text": [
      "hi\n"
     ]
    }
   ],
   "source": [
    "print('hi')"
   ]
  },
  {
   "cell_type": "code",
   "execution_count": 203,
   "id": "86a7d852",
   "metadata": {},
   "outputs": [
    {
     "name": "stdout",
     "output_type": "stream",
     "text": [
      "14\n",
      "4\n",
      "45\n",
      "1.8\n",
      "1\n",
      "4\n"
     ]
    }
   ],
   "source": [
    "a=9 \n",
    "b=5\n",
    "print(a+b)\n",
    "print(a-b)\n",
    "print(a*b)\n",
    "print(a/b)\n",
    "print(a//b)\n",
    "print(a%b)"
   ]
  },
  {
   "cell_type": "code",
   "execution_count": 205,
   "id": "4d8d3628",
   "metadata": {},
   "outputs": [
    {
     "name": "stdout",
     "output_type": "stream",
     "text": [
      "파이썬 데이터분석입문 playwithdata 데이터수집\n"
     ]
    }
   ],
   "source": [
    "print('파이썬','데이터분석입문','playwithdata','데이터수집')"
   ]
  },
  {
   "cell_type": "code",
   "execution_count": 209,
   "id": "1905fae3",
   "metadata": {},
   "outputs": [
    {
     "name": "stdout",
     "output_type": "stream",
     "text": [
      "귤/사과/배\n"
     ]
    }
   ],
   "source": [
    "print('귤','사과','배',sep='/')"
   ]
  },
  {
   "cell_type": "code",
   "execution_count": 215,
   "id": "2b81f6bd",
   "metadata": {},
   "outputs": [
    {
     "name": "stdout",
     "output_type": "stream",
     "text": [
      "1번 2번 3번 4번 5번 6번 7번 8번 9번 10번\n",
      "['1번', '2번', '3번', '4번', '5번', '6번', '7번', '8번', '9번', '10번']\n"
     ]
    }
   ],
   "source": [
    "print('1번','2번','3번','4번','5번','6번','7번','8번','9번','10번')\n",
    "\n",
    "class1= ['1번','2번','3번','4번','5번','6번','7번','8번','9번','10번']\n",
    "print(class1)"
   ]
  },
  {
   "cell_type": "code",
   "execution_count": 217,
   "id": "59d23747",
   "metadata": {},
   "outputs": [
    {
     "name": "stdout",
     "output_type": "stream",
     "text": [
      "['b', 'c']\n",
      "['b', 'c', 'd']\n"
     ]
    }
   ],
   "source": [
    "k = ['a','b','c','d','e']\n",
    "\n",
    "print(k[1:3])\n",
    "print(k[-4:-1])"
   ]
  },
  {
   "cell_type": "code",
   "execution_count": 218,
   "id": "8dcdd88e",
   "metadata": {},
   "outputs": [
    {
     "name": "stdout",
     "output_type": "stream",
     "text": [
      "['a', 'b', 'c', 'd']\n",
      "['b', 'c', 'd', 'a']\n"
     ]
    }
   ],
   "source": [
    "l1= ['a']\n",
    "l2= ['b','c','d']\n",
    "print(l1+l2)\n",
    "print(l2+l1)"
   ]
  },
  {
   "cell_type": "code",
   "execution_count": 221,
   "id": "8fdf90d8",
   "metadata": {},
   "outputs": [
    {
     "name": "stdout",
     "output_type": "stream",
     "text": [
      "['b', 'c', 'e', ['a']]\n"
     ]
    }
   ],
   "source": [
    "l1= ['a']\n",
    "l2= ['b','c','e']\n",
    "l2.append(l1)\n",
    "print(l2)"
   ]
  },
  {
   "cell_type": "code",
   "execution_count": 234,
   "id": "3e1d9064",
   "metadata": {},
   "outputs": [
    {
     "name": "stdout",
     "output_type": "stream",
     "text": [
      "바나나\n",
      "사과\n",
      "딸기\n",
      "배\n",
      "감\n"
     ]
    }
   ],
   "source": [
    "fruits= ['바나나','사과','딸기','배','감']\n",
    "for fruit in fruits :\n",
    "    print(fruit)"
   ]
  },
  {
   "cell_type": "code",
   "execution_count": 238,
   "id": "cadbf315",
   "metadata": {},
   "outputs": [
    {
     "name": "stdout",
     "output_type": "stream",
     "text": [
      "망고,파인애플사과\n"
     ]
    }
   ],
   "source": [
    "a='사과'\n",
    "b='망고,파인애플'\n",
    "ab=b+a\n",
    "print(ab)"
   ]
  },
  {
   "cell_type": "code",
   "execution_count": 241,
   "id": "d5bbea52",
   "metadata": {},
   "outputs": [
    {
     "name": "stdout",
     "output_type": "stream",
     "text": [
      "********\n"
     ]
    }
   ],
   "source": [
    "z='*'\n",
    "print(z*8)"
   ]
  },
  {
   "cell_type": "code",
   "execution_count": 245,
   "id": "3e54a8ed",
   "metadata": {},
   "outputs": [
    {
     "name": "stdout",
     "output_type": "stream",
     "text": [
      "2월 20일은 일요일입니다.\n"
     ]
    }
   ],
   "source": [
    "month='2월'\n",
    "day='20일'\n",
    "say='{} {}은 일요일입니다.'.format(month,day)\n",
    "print(say)"
   ]
  },
  {
   "cell_type": "code",
   "execution_count": 247,
   "id": "a6cab7d7",
   "metadata": {},
   "outputs": [
    {
     "name": "stdout",
     "output_type": "stream",
     "text": [
      "다\n",
      "바\n",
      "다라마\n",
      "라마바\n"
     ]
    }
   ],
   "source": [
    "k = \"가나다라마바\"\n",
    "#index 012345\n",
    "#index -6-5-4-3-2-1\n",
    "\n",
    "print(k[2])\n",
    "print(k[-1])\n",
    "print(k[2:5])\n",
    "print(k[3:])"
   ]
  },
  {
   "cell_type": "code",
   "execution_count": 252,
   "id": "79f1bc86",
   "metadata": {},
   "outputs": [
    {
     "name": "stdout",
     "output_type": "stream",
     "text": [
      " hp010-0000-0000 \n",
      "hp010-0000-0000\n",
      "010-0000-0000\n",
      "['010', '0000', '0000']\n"
     ]
    }
   ],
   "source": [
    "t1 = ' hp010-0000-0000 '\n",
    "print(t1)\n",
    "t2=t1.strip()\n",
    "print(t2)\n",
    "t3=t2.replace('hp','')\n",
    "print(t3)\n",
    "t4=t3.split('-')\n",
    "print(t4)"
   ]
  },
  {
   "cell_type": "code",
   "execution_count": 264,
   "id": "b7d6cb7e",
   "metadata": {},
   "outputs": [
    {
     "name": "stdout",
     "output_type": "stream",
     "text": [
      "가격을 입력하세요 : 2000\n",
      "저렴하다\n",
      "2000\n"
     ]
    }
   ],
   "source": [
    "price=int(input('가격을 입력하세요 : '))\n",
    "if price > 3000:\n",
    "    print('비싸다')\n",
    "else:\n",
    "    print('저렴하다')\n",
    "\n",
    "print(price)"
   ]
  },
  {
   "cell_type": "code",
   "execution_count": 265,
   "id": "0ce6009a",
   "metadata": {},
   "outputs": [],
   "source": [
    "def 함수명(매개변수):\n",
    "    실행부분"
   ]
  },
  {
   "cell_type": "code",
   "execution_count": 279,
   "id": "b6755918",
   "metadata": {},
   "outputs": [
    {
     "name": "stdout",
     "output_type": "stream",
     "text": [
      "안녕하세요,\n",
      "제 이름은 홍길동 입니다\n"
     ]
    }
   ],
   "source": [
    "def say(name):\n",
    "    print('안녕하세요,')\n",
    "    print('제 이름은 '+name+' 입니다')\n",
    "\n",
    "say('홍길동')"
   ]
  },
  {
   "cell_type": "code",
   "execution_count": 291,
   "id": "7f53242d",
   "metadata": {},
   "outputs": [
    {
     "name": "stdout",
     "output_type": "stream",
     "text": [
      "1000\n"
     ]
    }
   ],
   "source": [
    "def cal(a,b):\n",
    "    result= a**b\n",
    "    return result\n",
    "    \n",
    "    \n",
    "test= cal(10,3)  \n",
    "print(test)"
   ]
  },
  {
   "cell_type": "code",
   "execution_count": null,
   "id": "7c7b663d",
   "metadata": {},
   "outputs": [],
   "source": []
  },
  {
   "cell_type": "code",
   "execution_count": null,
   "id": "7c7b8b8d",
   "metadata": {},
   "outputs": [],
   "source": []
  },
  {
   "cell_type": "code",
   "execution_count": null,
   "id": "b0a91a2f",
   "metadata": {},
   "outputs": [],
   "source": []
  }
 ],
 "metadata": {
  "jupytext": {
   "formats": "ipynb,auto:light"
  },
  "kernelspec": {
   "display_name": "Python 3",
   "language": "python",
   "name": "python3"
  },
  "language_info": {
   "codemirror_mode": {
    "name": "ipython",
    "version": 3
   },
   "file_extension": ".py",
   "mimetype": "text/x-python",
   "name": "python",
   "nbconvert_exporter": "python",
   "pygments_lexer": "ipython3",
   "version": "3.8.8"
  }
 },
 "nbformat": 4,
 "nbformat_minor": 5
}
