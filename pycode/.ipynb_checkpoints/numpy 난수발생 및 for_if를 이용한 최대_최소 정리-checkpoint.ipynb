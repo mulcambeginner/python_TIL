{
 "cells": [
  {
   "cell_type": "code",
   "execution_count": null,
   "id": "c2780f77",
   "metadata": {},
   "outputs": [],
   "source": [
    "1 ### numpy 모듈\n",
    "2 - random 모듈을 이용한 난수 발생\n",
    "3- random,randint(시작값,종료값): 시작- 종료값 범위에 있는 정수를 임의로 발생"
   ]
  },
  {
   "cell_type": "code",
   "execution_count": 34,
   "id": "dca902f9",
   "metadata": {},
   "outputs": [
    {
     "data": {
      "text/plain": [
       "14"
      ]
     },
     "execution_count": 34,
     "metadata": {},
     "output_type": "execute_result"
    }
   ],
   "source": [
    "import numpy as np\n",
    "\n",
    "np.random.randint(10,21)"
   ]
  },
  {
   "cell_type": "code",
   "execution_count": 35,
   "id": "bb4d2947",
   "metadata": {},
   "outputs": [
    {
     "ename": "SyntaxError",
     "evalue": "invalid syntax (<ipython-input-35-b50fd460b871>, line 2)",
     "output_type": "error",
     "traceback": [
      "\u001b[1;36m  File \u001b[1;32m\"<ipython-input-35-b50fd460b871>\"\u001b[1;36m, line \u001b[1;32m2\u001b[0m\n\u001b[1;33m    - 10개의 데이터 생성\u001b[0m\n\u001b[1;37m        ^\u001b[0m\n\u001b[1;31mSyntaxError\u001b[0m\u001b[1;31m:\u001b[0m invalid syntax\n"
     ]
    }
   ],
   "source": [
    "### 0~50 사이의 숫자를 무작위로 생성\n",
    "- 10개의 데이터 생성\n",
    "- 생성된 숫자는 리스트형 데이터로 저장"
   ]
  },
  {
   "cell_type": "code",
   "execution_count": 42,
   "id": "08173514",
   "metadata": {},
   "outputs": [
    {
     "name": "stdout",
     "output_type": "stream",
     "text": [
      "[45, 14, 43, 27, 22, 41, 35, 14, 38, 40]\n"
     ]
    }
   ],
   "source": [
    "import numpy as np\n",
    "\n",
    "rd_lst=[]\n",
    "\n",
    "for i in range(10) :\n",
    "       rd_lst.append(np.random.randint(0,51))\n",
    "\n",
    "print(rd_lst)\n"
   ]
  },
  {
   "cell_type": "code",
   "execution_count": 44,
   "id": "9bd4c000",
   "metadata": {},
   "outputs": [
    {
     "name": "stdout",
     "output_type": "stream",
     "text": [
      "[28, 7, 13, 19, 5, 29, 7, 23, 7, 10]\n"
     ]
    }
   ],
   "source": [
    "rd_lst=[np.random.randint(0,51) for i in range(10)]\n",
    "print(rd_lst)"
   ]
  },
  {
   "cell_type": "code",
   "execution_count": null,
   "id": "715636ff",
   "metadata": {},
   "outputs": [],
   "source": [
    "# words 데이터에서 글자수가 4개 이상인 데이터를 찾아 new_words listdp 저장"
   ]
  },
  {
   "cell_type": "code",
   "execution_count": 45,
   "id": "56ea6784",
   "metadata": {},
   "outputs": [
    {
     "name": "stdout",
     "output_type": "stream",
     "text": [
      "['멀티캠퍼스', '티스토리', '프로그래밍']\n"
     ]
    }
   ],
   "source": [
    "words = [\"멀티캠퍼스\",\"티스토리\", \"블로그\", \"파이썬\", \"for\", \"프로그래밍\", \"반복\"]\n",
    "new_words=[]\n",
    "\n",
    "for word in words :\n",
    "    if len(word)>3 :\n",
    "        new_words.append(word)\n",
    "print(new_words)        "
   ]
  },
  {
   "cell_type": "code",
   "execution_count": 46,
   "id": "f747d091",
   "metadata": {},
   "outputs": [
    {
     "name": "stdout",
     "output_type": "stream",
     "text": [
      "['멀티캠퍼스', '티스토리', '프로그래밍']\n"
     ]
    }
   ],
   "source": [
    "new_words=[word for word in words if len(word)>3]\n",
    "\n",
    "print(new_words)"
   ]
  },
  {
   "cell_type": "code",
   "execution_count": 55,
   "id": "2b4ef752",
   "metadata": {},
   "outputs": [
    {
     "name": "stdout",
     "output_type": "stream",
     "text": [
      "['이중 for문', '파이썬', '프로그래밍', '스터디']\n",
      "['Python', 'NLP', 'ML', 'DL']\n",
      "['leetCode', 'BaekJoon', 'HackerRank']\n",
      "['멀티캠퍼스', 'COMPAS', 'DACON', 'Kaggle']\n",
      "멀티캠퍼스\n",
      "COMPAS\n",
      "DACON\n",
      "Kaggle\n"
     ]
    }
   ],
   "source": [
    "words = [ [ \"이중 for문\", \"파이썬\", \"프로그래밍\", \"스터디\" ], \n",
    "[ \"Python\", \"NLP\", \"ML\", \"DL\" ], [ \"leetCode\", \"BaekJoon\", \"HackerRank\" ], \n",
    "[ \"멀티캠퍼스\", \"COMPAS\", \"DACON\", \"Kaggle\" ] ]\n",
    "\n",
    "# words가 가지고 있는 단어의 길이가 4 이상인 데이터만 new_words에 리스트 추가\n",
    "for word_lst in words :\n",
    "    print(word_lst)\n",
    "for word in word_lst :\n",
    "    print(word)"
   ]
  },
  {
   "cell_type": "code",
   "execution_count": 47,
   "id": "f03a0e67",
   "metadata": {},
   "outputs": [
    {
     "name": "stdout",
     "output_type": "stream",
     "text": [
      "[['멀티캠퍼스', '티스토리', '블로그', '파이썬', 'for', '프로그래밍', '반복'], ['멀티캠퍼스', '티스토리', '블로그', '파이썬', 'for', '프로그래밍', '반복']]\n"
     ]
    }
   ],
   "source": [
    "new_words=[words for word in words if len(word)>4]\n",
    "\n",
    "print(new_words)\n"
   ]
  },
  {
   "cell_type": "code",
   "execution_count": 58,
   "id": "95ae3a65",
   "metadata": {},
   "outputs": [
    {
     "name": "stdout",
     "output_type": "stream",
     "text": [
      "['이중 for문', '프로그래밍', 'Python', 'leetCode', 'BaekJoon', 'HackerRank', '멀티캠퍼스', 'COMPAS', 'DACON', 'Kaggle']\n"
     ]
    }
   ],
   "source": [
    "words = [ [ \"이중 for문\", \"파이썬\", \"프로그래밍\", \"스터디\" ], \n",
    "[ \"Python\", \"NLP\", \"ML\", \"DL\" ], [ \"leetCode\", \"BaekJoon\", \"HackerRank\" ], \n",
    "[ \"멀티캠퍼스\", \"COMPAS\", \"DACON\", \"Kaggle\" ] ]\n",
    "\n",
    "# words가 가지고 있는 단어의 길이가 4 이상인 데이터만 new_words에 리스트 추가\n",
    "new_words=[]\n",
    "\n",
    "for word_lst in words :\n",
    "    for word in word_lst :\n",
    "        if len(word)>4:\n",
    "            new_words.append(word)\n",
    "print(new_words)                "
   ]
  },
  {
   "cell_type": "code",
   "execution_count": null,
   "id": "42efa4af",
   "metadata": {},
   "outputs": [],
   "source": [
    "import numpy as np\n"
   ]
  },
  {
   "cell_type": "code",
   "execution_count": 59,
   "id": "8b41ceb1",
   "metadata": {},
   "outputs": [
    {
     "name": "stdout",
     "output_type": "stream",
     "text": [
      "14\n",
      "40\n",
      "[46 10 27 45 49 34 34  7 39  9]\n",
      "[10 36 37 32 30 48 12 39 23 44]\n"
     ]
    }
   ],
   "source": [
    "print(np.random.randint(51)) # 0~50 사이의 정수형 1개 발생\n",
    "print(np.random.randint(25,51))\n",
    "print(np.random.randint(0,51,10))\n",
    "print(np.random.randint(51,size=10))\n",
    "print(np.random.randint(0,51,size=10))"
   ]
  },
  {
   "cell_type": "code",
   "execution_count": null,
   "id": "a1fca942",
   "metadata": {},
   "outputs": [],
   "source": [
    "요구사항: 리스트 개체를 생성하는 코드를 작성해주세요\n",
    "리스트 개체는 총 5개의 리스트 요소를 가지고 있고 각 리스트 요소마다 10에서 20개 사의 값을 가지고 있습니다.\n",
    "이 값은 0 ~ 50 사이의 임의의 값으로 만들어져 있습니다.\n",
    "[[0, 24, 3, ..20], [44, 14, 8, ..10], [0, 3, 12, ..13], [49, 24, 13, ..15], [0, 24, 3, ..17]]\n",
    "문제 해결 알고리즘\n",
    "10~20 size 발생: random.randint(10, 21) ==> size\n",
    "0~50 사이값 발생: random.randint(0, 51, size=10-20)\n",
    "리스트 인수 5개 생성: for i range(5)\n"
   ]
  },
  {
   "cell_type": "code",
   "execution_count": 67,
   "id": "420224c2",
   "metadata": {},
   "outputs": [
    {
     "name": "stdout",
     "output_type": "stream",
     "text": [
      "[[7, 18, 41, 14, 21, 37, 15, 46, 16, 44], [23, 15, 47, 29, 29, 39, 43, 29, 21, 7, 17, 15, 17, 30, 4, 45], [46, 27, 20, 36, 31, 19, 49, 50, 47, 45, 25, 25], [9, 2, 0, 30, 21, 24, 39, 34, 44, 5], [36, 38, 30, 27, 39, 39, 44, 47, 5, 21, 21, 5, 2, 35]]\n"
     ]
    }
   ],
   "source": [
    "import numpy as np\n",
    "\n",
    "rd_lst=[]\n",
    "for i in range(5) :\n",
    "    rd_lst.append(list(np.random.randint(0,51,size=np.random.randint(10,21))))\n",
    "    \n",
    "print(rd_lst)"
   ]
  },
  {
   "cell_type": "code",
   "execution_count": null,
   "id": "0d3f81df",
   "metadata": {},
   "outputs": [],
   "source": [
    "### [요구사항] 입력된 숫자데이터에서 최대값 최소값 합계 계산\n",
    "1- data에 입력된 값을 기준으로 계산\n",
    "2- 위에서 생성된 rd_lst를 이용해 계산\n",
    "\n",
    "### 제한조건\n",
    "sum,max,min 사용금지"
   ]
  },
  {
   "cell_type": "code",
   "execution_count": 69,
   "id": "2a2fe958",
   "metadata": {},
   "outputs": [
    {
     "name": "stdout",
     "output_type": "stream",
     "text": [
      "최대값:43,최소값:1,합계:407\n"
     ]
    }
   ],
   "source": [
    "data=[34, 23, 20, 43, 1, 5, 2, 14, 18, 24, 40, 18, 38, 4, 3, 22, 43, 6, 36, 13]\n",
    "\n",
    "tmpMax=data[0]\n",
    "tmpMin=data[0]\n",
    "tmpSum=0\n",
    "\n",
    "for dt in data :\n",
    "    if dt > tmpMax :\n",
    "        tmpMax=dt\n",
    "    if dt < tmpMin :\n",
    "        tmpMin=dt\n",
    "    tmpSum+=dt\n",
    "\n",
    "print(f'최대값:{tmpMax},최소값:{tmpMin},합계:{tmpSum}')   "
   ]
  },
  {
   "cell_type": "code",
   "execution_count": 73,
   "id": "d5eaf79f",
   "metadata": {},
   "outputs": [
    {
     "ename": "IndentationError",
     "evalue": "unindent does not match any outer indentation level (<tokenize>, line 7)",
     "output_type": "error",
     "traceback": [
      "\u001b[1;36m  File \u001b[1;32m\"<tokenize>\"\u001b[1;36m, line \u001b[1;32m7\u001b[0m\n\u001b[1;33m    if dt > tmpMax :\u001b[0m\n\u001b[1;37m    ^\u001b[0m\n\u001b[1;31mIndentationError\u001b[0m\u001b[1;31m:\u001b[0m unindent does not match any outer indentation level\n"
     ]
    }
   ],
   "source": [
    "tmpMax=rd_lst[0][0]\n",
    "tmpMin=rd_lst[0][0]\n",
    "tmpSum=0\n",
    "\n",
    "for dt_lst in rd_lst :\n",
    "     for dt in df_lst:\n",
    "    if dt > tmpslst[1] :\n",
    "        tmpMax=dt\n",
    "    if dt < tmpMin :\n",
    "        tmpMin=dt\n",
    "    tmpSum+=dt\n",
    "\n",
    "print(f'최대값:{tmpMax},최소값:{tmpMin},합계:{tmpSum}')   "
   ]
  },
  {
   "cell_type": "code",
   "execution_count": null,
   "id": "8e0bf9bc",
   "metadata": {},
   "outputs": [],
   "source": [
    "### 각 그룹별 계산\n",
    "- 그룹단위 최대값/최소값/합계\n",
    "- 전체 최대/최소값/합계"
   ]
  },
  {
   "cell_type": "code",
   "execution_count": 79,
   "id": "29190d7b",
   "metadata": {
    "scrolled": true
   },
   "outputs": [
    {
     "name": "stdout",
     "output_type": "stream",
     "text": [
      "그룹별\n",
      " [[259, 46, 7], [410, 47, 4], [420, 50, 19], [208, 44, 0], [389, 47, 2]] \n",
      "\n",
      "전체데이터: [1686, 50, 0]\n"
     ]
    }
   ],
   "source": [
    "T_lst=[0,rd_lst[0][0],rd_lst[0][0]] #전체값 계산 리스트 변수\n",
    "G_lst=[] # 그룹별 최대값/최소값/합계를 저장할 리스트(출력)\n",
    "\n",
    "for lst in rd_lst :\n",
    "    tmp_lst=[0,lst[0],lst[0]] # 그룹별 계산 리스트 변수\n",
    "    for dt in lst :\n",
    "        if dt > tmp_lst[1]:# 그룹 내에서 최대값 찾기\n",
    "            tmp_lst[1]=dt\n",
    "        \n",
    "        if dt < tmp_lst[2] : # 그룹 내에서 최소값 찾기\n",
    "            tmp_lst[2]=dt\n",
    "        \n",
    "        tmp_lst[0] = tmp_lst[0] + dt # 그룹별 합계 계산\n",
    "    \n",
    "    G_lst.append(tmp_lst) # 그룹별 계산 결과 리스트에 추가\n",
    "    \n",
    "    # 전체 데이터 누적합계/최대값/최소값 찾기\n",
    "    T_lst[0] = T_lst[0]+tmp_lst[0] # 전체 누적 합계\n",
    "    \n",
    "    if tmp_lst[1] > T_lst[1] :\n",
    "        T_lst[1]=tmp_lst[1]\n",
    "        \n",
    "    if tmp_lst[2] < T_lst[2] :\n",
    "        T_lst[2]=tmp_lst[2]\n",
    "        \n",
    "print('그룹별\\n', G_lst,\"\\n\")\n",
    "print('전체데이터:', T_lst)\n",
    "\n",
    "    \n",
    "    \n",
    "\n",
    "\n",
    "\n"
   ]
  },
  {
   "cell_type": "code",
   "execution_count": null,
   "id": "a0d60677",
   "metadata": {},
   "outputs": [],
   "source": [
    "\n"
   ]
  },
  {
   "cell_type": "code",
   "execution_count": null,
   "id": "cdf81a67",
   "metadata": {},
   "outputs": [],
   "source": []
  },
  {
   "cell_type": "code",
   "execution_count": null,
   "id": "e6788dd8",
   "metadata": {},
   "outputs": [],
   "source": []
  },
  {
   "cell_type": "code",
   "execution_count": null,
   "id": "8d3e58e1",
   "metadata": {},
   "outputs": [],
   "source": []
  },
  {
   "cell_type": "code",
   "execution_count": null,
   "id": "11cb790f",
   "metadata": {},
   "outputs": [],
   "source": []
  },
  {
   "cell_type": "code",
   "execution_count": null,
   "id": "d5b751d6",
   "metadata": {},
   "outputs": [],
   "source": []
  },
  {
   "cell_type": "code",
   "execution_count": null,
   "id": "2f84c35b",
   "metadata": {},
   "outputs": [],
   "source": []
  }
 ],
 "metadata": {
  "kernelspec": {
   "display_name": "Python 3",
   "language": "python",
   "name": "python3"
  },
  "language_info": {
   "codemirror_mode": {
    "name": "ipython",
    "version": 3
   },
   "file_extension": ".py",
   "mimetype": "text/x-python",
   "name": "python",
   "nbconvert_exporter": "python",
   "pygments_lexer": "ipython3",
   "version": "3.8.8"
  }
 },
 "nbformat": 4,
 "nbformat_minor": 5
}
